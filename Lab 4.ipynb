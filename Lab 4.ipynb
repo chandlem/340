{
 "cells": [
  {
   "cell_type": "code",
   "execution_count": 3,
   "metadata": {},
   "outputs": [
    {
     "name": "stdout",
     "output_type": "stream",
     "text": [
      "Requirement already satisfied: psycopg2 in c:\\programdata\\anaconda3\\lib\\site-packages (2.8.3)\n"
     ]
    }
   ],
   "source": [
    "!pip install psycopg2"
   ]
  },
  {
   "cell_type": "code",
   "execution_count": 4,
   "metadata": {},
   "outputs": [],
   "source": [
    "import pandas\n",
    "import configparser\n",
    "import psycopg2"
   ]
  },
  {
   "cell_type": "code",
   "execution_count": 5,
   "metadata": {},
   "outputs": [],
   "source": [
    "config = configparser.ConfigParser()\n",
    "config.read('config.ini')\n",
    "\n",
    "host = config['myaws']['host']\n",
    "user = config['myaws']['user']\n",
    "pswd = config['myaws']['pswd']\n",
    "database = config['myaws']['database']"
   ]
  },
  {
   "cell_type": "code",
   "execution_count": 6,
   "metadata": {},
   "outputs": [],
   "source": [
    "conn = psycopg2.connect(\n",
    "                        host = host,\n",
    "                        user = user,\n",
    "                        password = pswd,\n",
    "                        dbname = database\n",
    ")"
   ]
  },
  {
   "cell_type": "code",
   "execution_count": 7,
   "metadata": {},
   "outputs": [],
   "source": [
    "cur= conn.cursor()"
   ]
  },
  {
   "cell_type": "code",
   "execution_count": 36,
   "metadata": {},
   "outputs": [],
   "source": [
    "sql_statement = '''\n",
    "                select\n",
    "                teacher_gp8.name as tname,\n",
    "                count(course_gp8.name) as course_num\n",
    "                from teacher_gp8\n",
    "                inner join course_gp8\n",
    "                on teacher_gp8.email = course_gp8.temail\n",
    "                group by teacher_gp8.name\n",
    "                '''"
   ]
  },
  {
   "cell_type": "code",
   "execution_count": 37,
   "metadata": {},
   "outputs": [
    {
     "data": {
      "text/html": [
       "<div>\n",
       "<style scoped>\n",
       "    .dataframe tbody tr th:only-of-type {\n",
       "        vertical-align: middle;\n",
       "    }\n",
       "\n",
       "    .dataframe tbody tr th {\n",
       "        vertical-align: top;\n",
       "    }\n",
       "\n",
       "    .dataframe thead th {\n",
       "        text-align: right;\n",
       "    }\n",
       "</style>\n",
       "<table border=\"1\" class=\"dataframe\">\n",
       "  <thead>\n",
       "    <tr style=\"text-align: right;\">\n",
       "      <th></th>\n",
       "      <th>tname</th>\n",
       "      <th>course_num</th>\n",
       "    </tr>\n",
       "  </thead>\n",
       "  <tbody>\n",
       "    <tr>\n",
       "      <th>0</th>\n",
       "      <td>Noel Hendrickson                              ...</td>\n",
       "      <td>2</td>\n",
       "    </tr>\n",
       "    <tr>\n",
       "      <th>1</th>\n",
       "      <td>Kathleen Moore                                ...</td>\n",
       "      <td>1</td>\n",
       "    </tr>\n",
       "    <tr>\n",
       "      <th>2</th>\n",
       "      <td>Stephen Marrin                                ...</td>\n",
       "      <td>1</td>\n",
       "    </tr>\n",
       "    <tr>\n",
       "      <th>3</th>\n",
       "      <td>New Professor                                 ...</td>\n",
       "      <td>2</td>\n",
       "    </tr>\n",
       "  </tbody>\n",
       "</table>\n",
       "</div>"
      ],
      "text/plain": [
       "                                               tname  course_num\n",
       "0  Noel Hendrickson                              ...           2\n",
       "1  Kathleen Moore                                ...           1\n",
       "2  Stephen Marrin                                ...           1\n",
       "3  New Professor                                 ...           2"
      ]
     },
     "execution_count": 37,
     "metadata": {},
     "output_type": "execute_result"
    }
   ],
   "source": [
    "df = pandas.read_sql_query(sql_statement,conn)\n",
    "df[:]"
   ]
  },
  {
   "cell_type": "markdown",
   "metadata": {},
   "source": [
    "## Q5"
   ]
  },
  {
   "cell_type": "code",
   "execution_count": 38,
   "metadata": {
    "scrolled": true
   },
   "outputs": [
    {
     "name": "stdout",
     "output_type": "stream",
     "text": [
      "\n",
      "                        insert into teacher_gp8(email, name, office)\n",
      "                        values('new_email1', 'new_name1', 'new_office1')\n",
      "                        \n"
     ]
    }
   ],
   "source": [
    "sql_insert_statement = '''\n",
    "                        insert into teacher_gp8(email, name, office)\n",
    "                        values('{}', '{}', '{}')\n",
    "                        '''.format('new_email1', 'new_name1', 'new_office1')\n",
    "print(sql_insert_statement)"
   ]
  },
  {
   "cell_type": "code",
   "execution_count": 39,
   "metadata": {},
   "outputs": [],
   "source": [
    "cur.execute(sql_insert_statement)"
   ]
  },
  {
   "cell_type": "code",
   "execution_count": 40,
   "metadata": {},
   "outputs": [],
   "source": [
    "conn.commit()"
   ]
  },
  {
   "cell_type": "code",
   "execution_count": 62,
   "metadata": {},
   "outputs": [
    {
     "data": {
      "text/html": [
       "<div>\n",
       "<style scoped>\n",
       "    .dataframe tbody tr th:only-of-type {\n",
       "        vertical-align: middle;\n",
       "    }\n",
       "\n",
       "    .dataframe tbody tr th {\n",
       "        vertical-align: top;\n",
       "    }\n",
       "\n",
       "    .dataframe thead th {\n",
       "        text-align: right;\n",
       "    }\n",
       "</style>\n",
       "<table border=\"1\" class=\"dataframe\">\n",
       "  <thead>\n",
       "    <tr style=\"text-align: right;\">\n",
       "      <th></th>\n",
       "      <th>email</th>\n",
       "      <th>name</th>\n",
       "      <th>office</th>\n",
       "    </tr>\n",
       "  </thead>\n",
       "  <tbody>\n",
       "    <tr>\n",
       "      <th>0</th>\n",
       "      <td>hendrinx@jmu.edu                              ...</td>\n",
       "      <td>Noel Hendrickson                              ...</td>\n",
       "      <td>ISAT 317</td>\n",
       "    </tr>\n",
       "    <tr>\n",
       "      <th>1</th>\n",
       "      <td>marrinsp@jmu.edu                              ...</td>\n",
       "      <td>Stephen Marrin                                ...</td>\n",
       "      <td>EnGeo 2104</td>\n",
       "    </tr>\n",
       "    <tr>\n",
       "      <th>2</th>\n",
       "      <td>moore8ka@jmu.edu                              ...</td>\n",
       "      <td>Kathleen Moore                                ...</td>\n",
       "      <td>ISAT 116</td>\n",
       "    </tr>\n",
       "    <tr>\n",
       "      <th>3</th>\n",
       "      <td>teateaa@jmu.edu                               ...</td>\n",
       "      <td>Anthony Teate                                 ...</td>\n",
       "      <td>ISAT 126</td>\n",
       "    </tr>\n",
       "    <tr>\n",
       "      <th>4</th>\n",
       "      <td>newprofessor@jmu.edu                          ...</td>\n",
       "      <td>New Professor                                 ...</td>\n",
       "      <td>ISAT 000</td>\n",
       "    </tr>\n",
       "    <tr>\n",
       "      <th>5</th>\n",
       "      <td>taoqx@jmu.edu                                 ...</td>\n",
       "      <td>Qingjiu (Tom) Tao                             ...</td>\n",
       "      <td>EnGeo 2107</td>\n",
       "    </tr>\n",
       "    <tr>\n",
       "      <th>6</th>\n",
       "      <td>new_email1                                    ...</td>\n",
       "      <td>new_name1                                     ...</td>\n",
       "      <td>new_office1</td>\n",
       "    </tr>\n",
       "  </tbody>\n",
       "</table>\n",
       "</div>"
      ],
      "text/plain": [
       "                                               email  \\\n",
       "0  hendrinx@jmu.edu                              ...   \n",
       "1  marrinsp@jmu.edu                              ...   \n",
       "2  moore8ka@jmu.edu                              ...   \n",
       "3  teateaa@jmu.edu                               ...   \n",
       "4  newprofessor@jmu.edu                          ...   \n",
       "5  taoqx@jmu.edu                                 ...   \n",
       "6  new_email1                                    ...   \n",
       "\n",
       "                                                name                office  \n",
       "0  Noel Hendrickson                              ...  ISAT 317              \n",
       "1  Stephen Marrin                                ...  EnGeo 2104            \n",
       "2  Kathleen Moore                                ...  ISAT 116              \n",
       "3  Anthony Teate                                 ...  ISAT 126              \n",
       "4  New Professor                                 ...  ISAT 000              \n",
       "5  Qingjiu (Tom) Tao                             ...  EnGeo 2107            \n",
       "6  new_name1                                     ...  new_office1           "
      ]
     },
     "execution_count": 62,
     "metadata": {},
     "output_type": "execute_result"
    }
   ],
   "source": [
    "df = pandas.read_sql_query('''select * from teacher_gp8''',conn)\n",
    "df[:]"
   ]
  },
  {
   "cell_type": "code",
   "execution_count": 64,
   "metadata": {},
   "outputs": [
    {
     "name": "stdout",
     "output_type": "stream",
     "text": [
      "\n",
      "                        insert into course_gp8(name, room, temail)\n",
      "                        values('Intelligence Analysis 102', 'EnGeo 001', 'new_email1')\n",
      "                        \n"
     ]
    }
   ],
   "source": [
    "sql_insert_statement = '''\n",
    "                        insert into course_gp8(name, room, temail)\n",
    "                        values('{}', '{}', '{}')\n",
    "                        '''.format('Intelligence Analysis 102', 'EnGeo 001', 'new_email1')\n",
    "print(sql_insert_statement)"
   ]
  },
  {
   "cell_type": "code",
   "execution_count": 65,
   "metadata": {},
   "outputs": [],
   "source": [
    "cur.execute(sql_insert_statement)"
   ]
  },
  {
   "cell_type": "code",
   "execution_count": 66,
   "metadata": {},
   "outputs": [],
   "source": [
    "conn.commit()"
   ]
  },
  {
   "cell_type": "code",
   "execution_count": 67,
   "metadata": {},
   "outputs": [
    {
     "data": {
      "text/html": [
       "<div>\n",
       "<style scoped>\n",
       "    .dataframe tbody tr th:only-of-type {\n",
       "        vertical-align: middle;\n",
       "    }\n",
       "\n",
       "    .dataframe tbody tr th {\n",
       "        vertical-align: top;\n",
       "    }\n",
       "\n",
       "    .dataframe thead th {\n",
       "        text-align: right;\n",
       "    }\n",
       "</style>\n",
       "<table border=\"1\" class=\"dataframe\">\n",
       "  <thead>\n",
       "    <tr style=\"text-align: right;\">\n",
       "      <th></th>\n",
       "      <th>name</th>\n",
       "      <th>room</th>\n",
       "      <th>temail</th>\n",
       "    </tr>\n",
       "  </thead>\n",
       "  <tbody>\n",
       "    <tr>\n",
       "      <th>0</th>\n",
       "      <td>Seminar on Issues in Intelligence Analysis    ...</td>\n",
       "      <td>EnGeo 1204</td>\n",
       "      <td>marrinsp@jmu.edu                              ...</td>\n",
       "    </tr>\n",
       "    <tr>\n",
       "      <th>1</th>\n",
       "      <td>Counterfactual Reasoning                      ...</td>\n",
       "      <td>EnGeo 2202</td>\n",
       "      <td>hendrinx@jmu.edu                              ...</td>\n",
       "    </tr>\n",
       "    <tr>\n",
       "      <th>2</th>\n",
       "      <td>Introduction to Intelligence Analysis         ...</td>\n",
       "      <td>EnGeo 2301</td>\n",
       "      <td>hendrinx@jmu.edu                              ...</td>\n",
       "    </tr>\n",
       "    <tr>\n",
       "      <th>3</th>\n",
       "      <td>Technology Applications in a Networked World  ...</td>\n",
       "      <td>EnGeo 2202</td>\n",
       "      <td>moore8ka@jmu.edu                              ...</td>\n",
       "    </tr>\n",
       "    <tr>\n",
       "      <th>4</th>\n",
       "      <td>Intelligence Analysis 101                     ...</td>\n",
       "      <td>EnGeo 000</td>\n",
       "      <td>newprofessor@jmu.edu                          ...</td>\n",
       "    </tr>\n",
       "    <tr>\n",
       "      <th>5</th>\n",
       "      <td>Intelligence Analysis 102                     ...</td>\n",
       "      <td>EnGeo 001</td>\n",
       "      <td>new_email1                                    ...</td>\n",
       "    </tr>\n",
       "    <tr>\n",
       "      <th>6</th>\n",
       "      <td>Selected Topics in Intelligence Analysis      ...</td>\n",
       "      <td>EnGeo 2014</td>\n",
       "      <td>newprofessor@jmu.edu                          ...</td>\n",
       "    </tr>\n",
       "  </tbody>\n",
       "</table>\n",
       "</div>"
      ],
      "text/plain": [
       "                                                name                  room  \\\n",
       "0  Seminar on Issues in Intelligence Analysis    ...  EnGeo 1204             \n",
       "1  Counterfactual Reasoning                      ...  EnGeo 2202             \n",
       "2  Introduction to Intelligence Analysis         ...  EnGeo 2301             \n",
       "3  Technology Applications in a Networked World  ...  EnGeo 2202             \n",
       "4  Intelligence Analysis 101                     ...  EnGeo 000              \n",
       "5  Intelligence Analysis 102                     ...  EnGeo 001              \n",
       "6  Selected Topics in Intelligence Analysis      ...  EnGeo 2014             \n",
       "\n",
       "                                              temail  \n",
       "0  marrinsp@jmu.edu                              ...  \n",
       "1  hendrinx@jmu.edu                              ...  \n",
       "2  hendrinx@jmu.edu                              ...  \n",
       "3  moore8ka@jmu.edu                              ...  \n",
       "4  newprofessor@jmu.edu                          ...  \n",
       "5  new_email1                                    ...  \n",
       "6  newprofessor@jmu.edu                          ...  "
      ]
     },
     "execution_count": 67,
     "metadata": {},
     "output_type": "execute_result"
    }
   ],
   "source": [
    "df = pandas.read_sql_query('''select * from course_gp8''',conn)\n",
    "df[:]"
   ]
  },
  {
   "cell_type": "markdown",
   "metadata": {},
   "source": [
    "## Q6"
   ]
  },
  {
   "cell_type": "code",
   "execution_count": 68,
   "metadata": {},
   "outputs": [
    {
     "name": "stdout",
     "output_type": "stream",
     "text": [
      "\n",
      "                        update course_gp8\n",
      "                        set temail = 'newprofessor@jmu.edu'\n",
      "                        where temail = 'taoqx@jmu.edu'\n",
      "                        \n"
     ]
    }
   ],
   "source": [
    "sql_insert_statement = '''\n",
    "                        update course_gp8\n",
    "                        set temail = 'newprofessor@jmu.edu'\n",
    "                        where temail = 'taoqx@jmu.edu'\n",
    "                        '''\n",
    "print(sql_insert_statement)"
   ]
  },
  {
   "cell_type": "code",
   "execution_count": 69,
   "metadata": {},
   "outputs": [],
   "source": [
    "cur.execute(sql_insert_statement)"
   ]
  },
  {
   "cell_type": "code",
   "execution_count": 70,
   "metadata": {},
   "outputs": [],
   "source": [
    "conn.commit()"
   ]
  },
  {
   "cell_type": "code",
   "execution_count": 71,
   "metadata": {},
   "outputs": [
    {
     "data": {
      "text/html": [
       "<div>\n",
       "<style scoped>\n",
       "    .dataframe tbody tr th:only-of-type {\n",
       "        vertical-align: middle;\n",
       "    }\n",
       "\n",
       "    .dataframe tbody tr th {\n",
       "        vertical-align: top;\n",
       "    }\n",
       "\n",
       "    .dataframe thead th {\n",
       "        text-align: right;\n",
       "    }\n",
       "</style>\n",
       "<table border=\"1\" class=\"dataframe\">\n",
       "  <thead>\n",
       "    <tr style=\"text-align: right;\">\n",
       "      <th></th>\n",
       "      <th>name</th>\n",
       "      <th>room</th>\n",
       "      <th>temail</th>\n",
       "    </tr>\n",
       "  </thead>\n",
       "  <tbody>\n",
       "    <tr>\n",
       "      <th>0</th>\n",
       "      <td>Seminar on Issues in Intelligence Analysis    ...</td>\n",
       "      <td>EnGeo 1204</td>\n",
       "      <td>marrinsp@jmu.edu                              ...</td>\n",
       "    </tr>\n",
       "    <tr>\n",
       "      <th>1</th>\n",
       "      <td>Counterfactual Reasoning                      ...</td>\n",
       "      <td>EnGeo 2202</td>\n",
       "      <td>hendrinx@jmu.edu                              ...</td>\n",
       "    </tr>\n",
       "    <tr>\n",
       "      <th>2</th>\n",
       "      <td>Introduction to Intelligence Analysis         ...</td>\n",
       "      <td>EnGeo 2301</td>\n",
       "      <td>hendrinx@jmu.edu                              ...</td>\n",
       "    </tr>\n",
       "    <tr>\n",
       "      <th>3</th>\n",
       "      <td>Technology Applications in a Networked World  ...</td>\n",
       "      <td>EnGeo 2202</td>\n",
       "      <td>moore8ka@jmu.edu                              ...</td>\n",
       "    </tr>\n",
       "    <tr>\n",
       "      <th>4</th>\n",
       "      <td>Intelligence Analysis 101                     ...</td>\n",
       "      <td>EnGeo 000</td>\n",
       "      <td>newprofessor@jmu.edu                          ...</td>\n",
       "    </tr>\n",
       "    <tr>\n",
       "      <th>5</th>\n",
       "      <td>Intelligence Analysis 102                     ...</td>\n",
       "      <td>EnGeo 001</td>\n",
       "      <td>new_email1                                    ...</td>\n",
       "    </tr>\n",
       "    <tr>\n",
       "      <th>6</th>\n",
       "      <td>Selected Topics in Intelligence Analysis      ...</td>\n",
       "      <td>EnGeo 2014</td>\n",
       "      <td>newprofessor@jmu.edu                          ...</td>\n",
       "    </tr>\n",
       "  </tbody>\n",
       "</table>\n",
       "</div>"
      ],
      "text/plain": [
       "                                                name                  room  \\\n",
       "0  Seminar on Issues in Intelligence Analysis    ...  EnGeo 1204             \n",
       "1  Counterfactual Reasoning                      ...  EnGeo 2202             \n",
       "2  Introduction to Intelligence Analysis         ...  EnGeo 2301             \n",
       "3  Technology Applications in a Networked World  ...  EnGeo 2202             \n",
       "4  Intelligence Analysis 101                     ...  EnGeo 000              \n",
       "5  Intelligence Analysis 102                     ...  EnGeo 001              \n",
       "6  Selected Topics in Intelligence Analysis      ...  EnGeo 2014             \n",
       "\n",
       "                                              temail  \n",
       "0  marrinsp@jmu.edu                              ...  \n",
       "1  hendrinx@jmu.edu                              ...  \n",
       "2  hendrinx@jmu.edu                              ...  \n",
       "3  moore8ka@jmu.edu                              ...  \n",
       "4  newprofessor@jmu.edu                          ...  \n",
       "5  new_email1                                    ...  \n",
       "6  newprofessor@jmu.edu                          ...  "
      ]
     },
     "execution_count": 71,
     "metadata": {},
     "output_type": "execute_result"
    }
   ],
   "source": [
    "df = pandas.read_sql_query('''select * from course_gp8''',conn)\n",
    "df[:]"
   ]
  },
  {
   "cell_type": "code",
   "execution_count": 81,
   "metadata": {},
   "outputs": [
    {
     "name": "stdout",
     "output_type": "stream",
     "text": [
      "\n",
      "                        delete from teacher_gp8\n",
      "                        where email = 'taoqx@jmu.edu'\n",
      "                        \n"
     ]
    }
   ],
   "source": [
    "sql_insert_statement = '''\n",
    "                        delete from teacher_gp8\n",
    "                        where email = 'taoqx@jmu.edu'\n",
    "                        '''\n",
    "print(sql_insert_statement)"
   ]
  },
  {
   "cell_type": "code",
   "execution_count": 82,
   "metadata": {},
   "outputs": [],
   "source": [
    "cur.execute(sql_insert_statement)"
   ]
  },
  {
   "cell_type": "code",
   "execution_count": 83,
   "metadata": {},
   "outputs": [],
   "source": [
    "conn.commit()"
   ]
  },
  {
   "cell_type": "code",
   "execution_count": 84,
   "metadata": {},
   "outputs": [
    {
     "data": {
      "text/html": [
       "<div>\n",
       "<style scoped>\n",
       "    .dataframe tbody tr th:only-of-type {\n",
       "        vertical-align: middle;\n",
       "    }\n",
       "\n",
       "    .dataframe tbody tr th {\n",
       "        vertical-align: top;\n",
       "    }\n",
       "\n",
       "    .dataframe thead th {\n",
       "        text-align: right;\n",
       "    }\n",
       "</style>\n",
       "<table border=\"1\" class=\"dataframe\">\n",
       "  <thead>\n",
       "    <tr style=\"text-align: right;\">\n",
       "      <th></th>\n",
       "      <th>email</th>\n",
       "      <th>name</th>\n",
       "      <th>office</th>\n",
       "    </tr>\n",
       "  </thead>\n",
       "  <tbody>\n",
       "    <tr>\n",
       "      <th>0</th>\n",
       "      <td>hendrinx@jmu.edu                              ...</td>\n",
       "      <td>Noel Hendrickson                              ...</td>\n",
       "      <td>ISAT 317</td>\n",
       "    </tr>\n",
       "    <tr>\n",
       "      <th>1</th>\n",
       "      <td>marrinsp@jmu.edu                              ...</td>\n",
       "      <td>Stephen Marrin                                ...</td>\n",
       "      <td>EnGeo 2104</td>\n",
       "    </tr>\n",
       "    <tr>\n",
       "      <th>2</th>\n",
       "      <td>moore8ka@jmu.edu                              ...</td>\n",
       "      <td>Kathleen Moore                                ...</td>\n",
       "      <td>ISAT 116</td>\n",
       "    </tr>\n",
       "    <tr>\n",
       "      <th>3</th>\n",
       "      <td>teateaa@jmu.edu                               ...</td>\n",
       "      <td>Anthony Teate                                 ...</td>\n",
       "      <td>ISAT 126</td>\n",
       "    </tr>\n",
       "    <tr>\n",
       "      <th>4</th>\n",
       "      <td>newprofessor@jmu.edu                          ...</td>\n",
       "      <td>New Professor                                 ...</td>\n",
       "      <td>ISAT 000</td>\n",
       "    </tr>\n",
       "    <tr>\n",
       "      <th>5</th>\n",
       "      <td>new_email1                                    ...</td>\n",
       "      <td>new_name1                                     ...</td>\n",
       "      <td>new_office1</td>\n",
       "    </tr>\n",
       "  </tbody>\n",
       "</table>\n",
       "</div>"
      ],
      "text/plain": [
       "                                               email  \\\n",
       "0  hendrinx@jmu.edu                              ...   \n",
       "1  marrinsp@jmu.edu                              ...   \n",
       "2  moore8ka@jmu.edu                              ...   \n",
       "3  teateaa@jmu.edu                               ...   \n",
       "4  newprofessor@jmu.edu                          ...   \n",
       "5  new_email1                                    ...   \n",
       "\n",
       "                                                name                office  \n",
       "0  Noel Hendrickson                              ...  ISAT 317              \n",
       "1  Stephen Marrin                                ...  EnGeo 2104            \n",
       "2  Kathleen Moore                                ...  ISAT 116              \n",
       "3  Anthony Teate                                 ...  ISAT 126              \n",
       "4  New Professor                                 ...  ISAT 000              \n",
       "5  new_name1                                     ...  new_office1           "
      ]
     },
     "execution_count": 84,
     "metadata": {},
     "output_type": "execute_result"
    }
   ],
   "source": [
    "df = pandas.read_sql_query('''select * from teacher_gp8''',conn)\n",
    "df[:]"
   ]
  },
  {
   "cell_type": "code",
   "execution_count": null,
   "metadata": {},
   "outputs": [],
   "source": []
  }
 ],
 "metadata": {
  "kernelspec": {
   "display_name": "Python 3",
   "language": "python",
   "name": "python3"
  },
  "language_info": {
   "codemirror_mode": {
    "name": "ipython",
    "version": 3
   },
   "file_extension": ".py",
   "mimetype": "text/x-python",
   "name": "python",
   "nbconvert_exporter": "python",
   "pygments_lexer": "ipython3",
   "version": "3.6.5"
  }
 },
 "nbformat": 4,
 "nbformat_minor": 2
}
